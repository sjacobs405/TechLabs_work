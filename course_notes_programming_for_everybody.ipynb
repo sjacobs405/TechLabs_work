{
  "nbformat": 4,
  "nbformat_minor": 0,
  "metadata": {
    "colab": {
      "name": "course_notes-programming_for_everybody.ipynb",
      "provenance": [],
      "collapsed_sections": [],
      "authorship_tag": "ABX9TyPkRR52TU7T2qFeCzjpV+Zq",
      "include_colab_link": true
    },
    "kernelspec": {
      "name": "python3",
      "display_name": "Python 3"
    }
  },
  "cells": [
    {
      "cell_type": "markdown",
      "metadata": {
        "id": "view-in-github",
        "colab_type": "text"
      },
      "source": [
        "<a href=\"https://colab.research.google.com/github/sjacobs405/TechLabs_Work/blob/main/course_notes_programming_for_everybody.ipynb\" target=\"_parent\"><img src=\"https://colab.research.google.com/assets/colab-badge.svg\" alt=\"Open In Colab\"/></a>"
      ]
    },
    {
      "cell_type": "code",
      "metadata": {
        "id": "ONCTV_rwyir1",
        "colab": {
          "base_uri": "https://localhost:8080/"
        },
        "outputId": "40c719bc-1182-413b-e759-6067b1255361"
      },
      "source": [
        "print('hello world')"
      ],
      "execution_count": 1,
      "outputs": [
        {
          "output_type": "stream",
          "text": [
            "hello world\n"
          ],
          "name": "stdout"
        }
      ]
    },
    {
      "cell_type": "code",
      "metadata": {
        "colab": {
          "base_uri": "https://localhost:8080/"
        },
        "id": "NwR434_zyR52",
        "outputId": "eaa51946-fc59-4175-d423-d45182f31c0e"
      },
      "source": [
        "x = 2\r\n",
        "x = x + 2\r\n",
        "print(x)"
      ],
      "execution_count": 2,
      "outputs": [
        {
          "output_type": "stream",
          "text": [
            "4\n"
          ],
          "name": "stdout"
        }
      ]
    },
    {
      "cell_type": "code",
      "metadata": {
        "id": "mpm7B1uLz7Oa"
      },
      "source": [
        "#Mnemonic - when you choose a variable name, it should be sensible\r\n",
        "#consistency is the primary objective in variable naming with python\r\n"
      ],
      "execution_count": 3,
      "outputs": []
    },
    {
      "cell_type": "code",
      "metadata": {
        "id": "ImUeM2tz0cMA"
      },
      "source": [
        "#order of evaluation applies just as with mathematical operations\r\n"
      ],
      "execution_count": 2,
      "outputs": []
    },
    {
      "cell_type": "code",
      "metadata": {
        "colab": {
          "base_uri": "https://localhost:8080/"
        },
        "id": "DENNyvApjtAt",
        "outputId": "f3b1a937-0b03-4639-d3a3-6dc153612dcd"
      },
      "source": [
        "x = 1 + 2 ** 3 / 4 * 5\r\n",
        "print(x)\r\n"
      ],
      "execution_count": 3,
      "outputs": [
        {
          "output_type": "stream",
          "text": [
            "11.0\n"
          ],
          "name": "stdout"
        }
      ]
    },
    {
      "cell_type": "code",
      "metadata": {
        "colab": {
          "base_uri": "https://localhost:8080/"
        },
        "id": "avefjC78nDqL",
        "outputId": "f2f2c96c-2de0-4d68-f2b4-0a3a99fff416"
      },
      "source": [
        "sval = '23'\r\n",
        "type(sval)"
      ],
      "execution_count": 4,
      "outputs": [
        {
          "output_type": "execute_result",
          "data": {
            "text/plain": [
              "str"
            ]
          },
          "metadata": {
            "tags": []
          },
          "execution_count": 4
        }
      ]
    },
    {
      "cell_type": "code",
      "metadata": {
        "colab": {
          "base_uri": "https://localhost:8080/",
          "height": 165
        },
        "id": "O8qer4oFp140",
        "outputId": "a5795045-e5e8-4f53-929f-13813d14ca47"
      },
      "source": [
        "print(sval+1)"
      ],
      "execution_count": 5,
      "outputs": [
        {
          "output_type": "error",
          "ename": "TypeError",
          "evalue": "ignored",
          "traceback": [
            "\u001b[0;31m---------------------------------------------------------------------------\u001b[0m",
            "\u001b[0;31mTypeError\u001b[0m                                 Traceback (most recent call last)",
            "\u001b[0;32m<ipython-input-5-d31b14f87b22>\u001b[0m in \u001b[0;36m<module>\u001b[0;34m()\u001b[0m\n\u001b[0;32m----> 1\u001b[0;31m \u001b[0mprint\u001b[0m\u001b[0;34m(\u001b[0m\u001b[0msval\u001b[0m\u001b[0;34m+\u001b[0m\u001b[0;36m1\u001b[0m\u001b[0;34m)\u001b[0m\u001b[0;34m\u001b[0m\u001b[0;34m\u001b[0m\u001b[0m\n\u001b[0m",
            "\u001b[0;31mTypeError\u001b[0m: must be str, not int"
          ]
        }
      ]
    },
    {
      "cell_type": "code",
      "metadata": {
        "colab": {
          "base_uri": "https://localhost:8080/"
        },
        "id": "V7aNLROGp6QK",
        "outputId": "3c52ce28-b1ad-452d-cfee-8fc04a295e16"
      },
      "source": [
        "ival = int(sval)\r\n",
        "type(ival)"
      ],
      "execution_count": 6,
      "outputs": [
        {
          "output_type": "execute_result",
          "data": {
            "text/plain": [
              "int"
            ]
          },
          "metadata": {
            "tags": []
          },
          "execution_count": 6
        }
      ]
    },
    {
      "cell_type": "code",
      "metadata": {
        "colab": {
          "base_uri": "https://localhost:8080/"
        },
        "id": "j-JKgWCoqF5f",
        "outputId": "1970e5eb-f8be-4708-f13d-9bb0396d0650"
      },
      "source": [
        "print(ival+1)"
      ],
      "execution_count": 8,
      "outputs": [
        {
          "output_type": "stream",
          "text": [
            "24\n"
          ],
          "name": "stdout"
        }
      ]
    },
    {
      "cell_type": "code",
      "metadata": {
        "colab": {
          "base_uri": "https://localhost:8080/"
        },
        "id": "wEf0R6kSqOD9",
        "outputId": "cb2a89dd-6db5-479d-eedc-128bc678f762"
      },
      "source": [
        "nam = input('Who are you?')\r\n",
        "print('Welcome', nam)"
      ],
      "execution_count": 9,
      "outputs": [
        {
          "output_type": "stream",
          "text": [
            "Who are you?Sarah\n",
            "Welcome Sarah\n"
          ],
          "name": "stdout"
        }
      ]
    },
    {
      "cell_type": "code",
      "metadata": {
        "colab": {
          "base_uri": "https://localhost:8080/"
        },
        "id": "VMc5rw7xqxmR",
        "outputId": "c3df0891-cd4e-46c9-f1f9-8d3fb29c3c25"
      },
      "source": [
        "#First code\r\n",
        "#Converting User Input\r\n",
        "#Convert elevator floors\r\n",
        "inp = input('Europe floor?')\r\n",
        "usf = int(inp) + 1\r\n",
        "print('US floor', usf)"
      ],
      "execution_count": 10,
      "outputs": [
        {
          "output_type": "stream",
          "text": [
            "Europe floor?43\n",
            "US floor 44\n"
          ],
          "name": "stdout"
        }
      ]
    },
    {
      "cell_type": "code",
      "metadata": {
        "colab": {
          "base_uri": "https://localhost:8080/"
        },
        "id": "Em2JDJ9nscFr",
        "outputId": "74676d12-e546-4d4a-e0a8-7746e0d9694c"
      },
      "source": [
        "#Conditional Steps\r\n",
        "x = 5\r\n",
        "if x < 10:\r\n",
        "  print('Smaller')\r\n",
        "if x > 20:\r\n",
        "  print('Bigger')\r\n",
        "print('Finis')"
      ],
      "execution_count": 11,
      "outputs": [
        {
          "output_type": "stream",
          "text": [
            "Smaller\n",
            "Finis\n"
          ],
          "name": "stdout"
        }
      ]
    },
    {
      "cell_type": "code",
      "metadata": {
        "colab": {
          "base_uri": "https://localhost:8080/"
        },
        "id": "n-dCFRcRt7Xj",
        "outputId": "43c2b7f5-dcab-4be6-a399-3b0fe9143865"
      },
      "source": [
        "x = 5\r\n",
        "if x == 5 :\r\n",
        "  print('Is 5')\r\n",
        "  print('Is Still 5')\r\n",
        "  print('Third 5')\r\n",
        "print('Aftewards 5')\r\n",
        "print('Before 6')\r\n",
        "if x == 6:\r\n",
        "  print ('Is 6')\r\n",
        "  print('Is Still 6')\r\n",
        "  print('third 6')\r\n",
        "print('Afterwards 6')"
      ],
      "execution_count": 12,
      "outputs": [
        {
          "output_type": "stream",
          "text": [
            "Is 5\n",
            "Is Still 5\n",
            "Third 5\n",
            "Aftewards 5\n",
            "Before 6\n",
            "Afterwards 6\n"
          ],
          "name": "stdout"
        }
      ]
    },
    {
      "cell_type": "code",
      "metadata": {
        "id": "qiNDyZa8vZpr"
      },
      "source": [
        "#Indented code is conditional\r\n",
        "#Not indented code is sequential"
      ],
      "execution_count": 13,
      "outputs": []
    },
    {
      "cell_type": "code",
      "metadata": {
        "colab": {
          "base_uri": "https://localhost:8080/"
        },
        "id": "NaZGF1KiwOFf",
        "outputId": "4c0088cd-4132-46ee-e8e9-b9c86d886481"
      },
      "source": [
        "#Nested code example\r\n",
        "x = 5\r\n",
        "if x > 2:\r\n",
        "  print('Bigger than 2')\r\n",
        "  print ('Still Bigger')\r\n",
        "print('Done with 2')\r\n",
        "\r\n",
        "for i in range(5) :\r\n",
        "  print(i)\r\n",
        "  if i > 2 :\r\n",
        "    print('Bigger than 2')\r\n",
        "  print('Done with i', i)\r\n",
        "print('All Done')"
      ],
      "execution_count": 14,
      "outputs": [
        {
          "output_type": "stream",
          "text": [
            "Bigger than 2\n",
            "Still Bigger\n",
            "Done with 2\n",
            "0\n",
            "Done with i 0\n",
            "1\n",
            "Done with i 1\n",
            "2\n",
            "Done with i 2\n",
            "3\n",
            "Bigger than 2\n",
            "Done with i 3\n",
            "4\n",
            "Bigger than 2\n",
            "Done with i 4\n",
            "All Done\n"
          ],
          "name": "stdout"
        }
      ]
    },
    {
      "cell_type": "code",
      "metadata": {
        "colab": {
          "base_uri": "https://localhost:8080/"
        },
        "id": "FmO4SNOwxMoG",
        "outputId": "2deb206a-19bf-4cf4-be5d-b6c46930a02b"
      },
      "source": [
        "#Nested Decisions\r\n",
        "x = 42\r\n",
        "if x > 1:\r\n",
        "  print('More than one')\r\n",
        "  if x < 100:\r\n",
        "    print('Less than 100')\r\n",
        "print('All done')"
      ],
      "execution_count": 16,
      "outputs": [
        {
          "output_type": "stream",
          "text": [
            "More than one\n",
            "Less than 100\n",
            "All done\n"
          ],
          "name": "stdout"
        }
      ]
    },
    {
      "cell_type": "code",
      "metadata": {
        "colab": {
          "base_uri": "https://localhost:8080/"
        },
        "id": "Y04i8XaRxuvR",
        "outputId": "bfc8f3b8-b291-4fba-d573-1d7b91e8ebec"
      },
      "source": [
        "#2-way Decisions\r\n",
        "# IF/Else functions\r\n",
        "\r\n",
        "x = 4\r\n",
        "if x > 2 :\r\n",
        "  print('Bigger')\r\n",
        "else :\r\n",
        "  print('Smaller')\r\n",
        "print('all done')"
      ],
      "execution_count": 17,
      "outputs": [
        {
          "output_type": "stream",
          "text": [
            "Bigger\n",
            "all done\n"
          ],
          "name": "stdout"
        }
      ]
    },
    {
      "cell_type": "code",
      "metadata": {
        "id": "ZMzxK1m_ya5g"
      },
      "source": [
        "#visualize blocks when working with conditional code"
      ],
      "execution_count": 18,
      "outputs": []
    },
    {
      "cell_type": "code",
      "metadata": {
        "colab": {
          "base_uri": "https://localhost:8080/"
        },
        "id": "9II_gk4kzQ0T",
        "outputId": "c223ca71-e46f-4312-e78d-1e7056626a46"
      },
      "source": [
        "#Multi-way using elif\r\n",
        "x = 66\r\n",
        "if x < 2 :\r\n",
        "  print('small')\r\n",
        "elif x < 10 :\r\n",
        "  print('Medium')\r\n",
        "else :\r\n",
        "  print('Large')\r\n",
        "print('All done.')"
      ],
      "execution_count": 22,
      "outputs": [
        {
          "output_type": "stream",
          "text": [
            "Large\n",
            "All done.\n"
          ],
          "name": "stdout"
        }
      ]
    },
    {
      "cell_type": "code",
      "metadata": {
        "id": "V5XnAtnuz3KT"
      },
      "source": [
        "# you don't have to use an else statement but that means \r\n",
        "# the function may not produce an output\r\n",
        "# you can have multiple elif statements in a block"
      ],
      "execution_count": null,
      "outputs": []
    },
    {
      "cell_type": "code",
      "metadata": {
        "id": "teHRfOQ90b1L"
      },
      "source": [
        "# Multi-way puzzles\r\n",
        "# Which part of the code will never print regardless of the value for x?\r\n",
        "### if x < 2 :\r\n",
        "#     print('Below 2')\r\n",
        "#   elif x >= 2 :\r\n",
        "#     print('Two or more')\r\n",
        "#   else :\r\n",
        "#     print('Something else')\r\n",
        "######\r\n",
        "# the else statement will never run because the if and elif statemens\r\n",
        "# cover all possible values for x\r\n",
        "######\r\n",
        "##  \r\n",
        "######\r\n",
        "######\r\n",
        "#  if x < 2 :\r\n",
        "#    print('Below 2')\r\n",
        "#  elif x < 20 :\r\n",
        "#    print('Below 20')\r\n",
        "#  elif x < 10 :\r\n",
        "#    print('Below 10')\r\n",
        "#  else :\r\n",
        "#    print('Something else')\r\n",
        "#\r\n",
        "######\r\n",
        "# The second elif line will never run because it is within the range of values \r\n",
        "# covered by the first elif statement"
      ],
      "execution_count": null,
      "outputs": []
    },
    {
      "cell_type": "code",
      "metadata": {
        "colab": {
          "base_uri": "https://localhost:8080/"
        },
        "id": "TfH2lAkp3Jhf",
        "outputId": "29f1f192-1514-401d-d73e-ca665fb48def"
      },
      "source": [
        "#try / except \r\n",
        "\r\n",
        "astr ='Hello Bob'\r\n",
        "try:\r\n",
        "  istr = int(astr)\r\n",
        "except:\r\n",
        "  istr = -1\r\n",
        "print('First', istr)\r\n",
        "\r\n",
        "astr = '123'\r\n",
        "try:\r\n",
        "  istr = int(astr)\r\n",
        "except:\r\n",
        "  istr = -1\r\n",
        "\r\n",
        "print('Second', istr)"
      ],
      "execution_count": 23,
      "outputs": [
        {
          "output_type": "stream",
          "text": [
            "First -1\n",
            "Second 123\n"
          ],
          "name": "stdout"
        }
      ]
    },
    {
      "cell_type": "code",
      "metadata": {
        "id": "s4cctnR_4UYH"
      },
      "source": [
        "# important to minimize what you put into a try / except block"
      ],
      "execution_count": null,
      "outputs": []
    },
    {
      "cell_type": "code",
      "metadata": {
        "colab": {
          "base_uri": "https://localhost:8080/"
        },
        "id": "pjZLkZqd4n4S",
        "outputId": "70f04581-afd3-40f2-dcf6-5f0918bc7835"
      },
      "source": [
        "# Sample of try / except\r\n",
        "\r\n",
        "rawstr =input('Enter a number:')\r\n",
        "try:\r\n",
        "  ival = int(rawstr)\r\n",
        "except:\r\n",
        "  ival = -1\r\n",
        "if ival > 0 :\r\n",
        "  print('Nice Work')\r\n",
        "else:\r\n",
        "  print('Not a number')"
      ],
      "execution_count": 25,
      "outputs": [
        {
          "output_type": "stream",
          "text": [
            "Enter a number:forty two\n",
            "Not a number\n"
          ],
          "name": "stdout"
        }
      ]
    },
    {
      "cell_type": "code",
      "metadata": {
        "colab": {
          "base_uri": "https://localhost:8080/"
        },
        "id": "JBflTCge5Nfy",
        "outputId": "1d33d10d-380e-4e12-b625-8e19f3749dc0"
      },
      "source": [
        "#Storage and Use Patterns\r\n",
        "def thing():\r\n",
        "  print('Hello')\r\n",
        "  print('Fun')\r\n",
        "\r\n",
        "thing()\r\n",
        "print('Zip')\r\n",
        "thing()\r\n"
      ],
      "execution_count": 26,
      "outputs": [
        {
          "output_type": "stream",
          "text": [
            "Hello\n",
            "Fun\n",
            "Zip\n",
            "Hello\n",
            "Fun\n"
          ],
          "name": "stdout"
        }
      ]
    },
    {
      "cell_type": "code",
      "metadata": {
        "id": "gT1EXenU7XbM"
      },
      "source": [
        "###Do Not Repeat Yourself!!!###"
      ],
      "execution_count": null,
      "outputs": []
    },
    {
      "cell_type": "code",
      "metadata": {
        "id": "oAqCkyWV7uwM"
      },
      "source": [
        "#functions summon reusable code, define function using def "
      ],
      "execution_count": null,
      "outputs": []
    },
    {
      "cell_type": "code",
      "metadata": {
        "colab": {
          "base_uri": "https://localhost:8080/"
        },
        "id": "Vy6erWL_8EI4",
        "outputId": "0df09201-465a-47b5-fefa-dd94b8c08043"
      },
      "source": [
        "big = max ('Hello world')\r\n",
        "print(big)"
      ],
      "execution_count": 27,
      "outputs": [
        {
          "output_type": "stream",
          "text": [
            "w\n"
          ],
          "name": "stdout"
        }
      ]
    },
    {
      "cell_type": "code",
      "metadata": {
        "id": "0xijSFnp8MVP"
      },
      "source": [
        "#max is a predefined function in python"
      ],
      "execution_count": null,
      "outputs": []
    },
    {
      "cell_type": "code",
      "metadata": {
        "colab": {
          "base_uri": "https://localhost:8080/"
        },
        "id": "-2g5j6zV8a9Q",
        "outputId": "ea245aa4-3677-4d38-c3ea-ffeb9057cfa3"
      },
      "source": [
        "tiny = min('Hello world')\r\n",
        "print(tiny)"
      ],
      "execution_count": 30,
      "outputs": [
        {
          "output_type": "stream",
          "text": [
            " \n"
          ],
          "name": "stdout"
        }
      ]
    },
    {
      "cell_type": "code",
      "metadata": {
        "colab": {
          "base_uri": "https://localhost:8080/"
        },
        "id": "Av30ZHST85bZ",
        "outputId": "b6f23c50-fe0e-4d02-ba49-11953d500c66"
      },
      "source": [
        "float (99) / 100"
      ],
      "execution_count": 1,
      "outputs": [
        {
          "output_type": "execute_result",
          "data": {
            "text/plain": [
              "0.99"
            ]
          },
          "metadata": {
            "tags": []
          },
          "execution_count": 1
        }
      ]
    },
    {
      "cell_type": "code",
      "metadata": {
        "colab": {
          "base_uri": "https://localhost:8080/"
        },
        "id": "1qk3nyNG_Bw3",
        "outputId": "87ed6d78-e958-498c-e57e-fc2d96a81da3"
      },
      "source": [
        "x = 5\r\n",
        "print('Hello')\r\n",
        "\r\n",
        "def print_lyrics():\r\n",
        "  print(\"I'm a lumberjack, and I'm okay\")\r\n",
        "  print('I sleep all night and I work all day')\r\n",
        "\r\n",
        "print('Yo')\r\n",
        "x = x + 2\r\n",
        "print(x)"
      ],
      "execution_count": 32,
      "outputs": [
        {
          "output_type": "stream",
          "text": [
            "Hello\n",
            "Yo\n",
            "7\n"
          ],
          "name": "stdout"
        }
      ]
    },
    {
      "cell_type": "code",
      "metadata": {
        "id": "8GvLx8rF-NHZ"
      },
      "source": [
        "### doesn't print lyrics bc def isn't a call"
      ],
      "execution_count": null,
      "outputs": []
    },
    {
      "cell_type": "code",
      "metadata": {
        "colab": {
          "base_uri": "https://localhost:8080/"
        },
        "id": "61yZRWLC_wHq",
        "outputId": "987335f2-b260-444a-c455-baadfc2d70f4"
      },
      "source": [
        "x = 5\r\n",
        "print('Hello')\r\n",
        "\r\n",
        "def print_lyrics():\r\n",
        "  print(\"I'm a lumberjack, and I'm okay\")\r\n",
        "  print('I sleep all night and I work all day')\r\n",
        "\r\n",
        "print('Yo')\r\n",
        "print_lyrics()\r\n",
        "x = x + 2\r\n",
        "print(x)"
      ],
      "execution_count": 33,
      "outputs": [
        {
          "output_type": "stream",
          "text": [
            "Hello\n",
            "Yo\n",
            "I'm a lumberjack, and I'm okay\n",
            "I sleep all night and I work all day\n",
            "7\n"
          ],
          "name": "stdout"
        }
      ]
    },
    {
      "cell_type": "code",
      "metadata": {
        "id": "zfNTSAgR__Sx"
      },
      "source": [
        "###corrected"
      ],
      "execution_count": null,
      "outputs": []
    },
    {
      "cell_type": "code",
      "metadata": {
        "colab": {
          "base_uri": "https://localhost:8080/"
        },
        "id": "_-JB0lMFADrC",
        "outputId": "bce18f09-1545-4448-b427-8b1bdee08b28"
      },
      "source": [
        "#Parameters\r\n",
        "#parameter is a variable used in the function 'definition'. \r\n",
        "#It is a 'handle' that allows the code in the function to access\r\n",
        "# the arguments for a paticular function call\r\n",
        "\r\n",
        "def greet(lang):\r\n",
        "  if lang == 'es':\r\n",
        "    print('Hola')\r\n",
        "  elif lang == 'fr':\r\n",
        "    print('Bonjour')\r\n",
        "  else:\r\n",
        "    print('Hello')\r\n",
        "\r\n",
        "greet('en')\r\n"
      ],
      "execution_count": 35,
      "outputs": [
        {
          "output_type": "stream",
          "text": [
            "Hello\n"
          ],
          "name": "stdout"
        }
      ]
    },
    {
      "cell_type": "code",
      "metadata": {
        "colab": {
          "base_uri": "https://localhost:8080/"
        },
        "id": "PnUfBdcpBBjJ",
        "outputId": "ae199e71-65ae-4b8a-99e9-e7068d16c42e"
      },
      "source": [
        "greet('es')"
      ],
      "execution_count": 36,
      "outputs": [
        {
          "output_type": "stream",
          "text": [
            "Hola\n"
          ],
          "name": "stdout"
        }
      ]
    },
    {
      "cell_type": "code",
      "metadata": {
        "colab": {
          "base_uri": "https://localhost:8080/"
        },
        "id": "iuJ3DIYUBEtj",
        "outputId": "7d9bdadf-ce45-4d69-df15-1f46947ad6e9"
      },
      "source": [
        "greet('fr')"
      ],
      "execution_count": 37,
      "outputs": [
        {
          "output_type": "stream",
          "text": [
            "Bonjour\n"
          ],
          "name": "stdout"
        }
      ]
    },
    {
      "cell_type": "code",
      "metadata": {
        "colab": {
          "base_uri": "https://localhost:8080/"
        },
        "id": "H-FBTJMLBHot",
        "outputId": "0c56d83d-db0c-402c-c128-64d618490e03"
      },
      "source": [
        "### Return Values\r\n",
        "\r\n",
        "def greet(): \r\n",
        "  return \"Hello\"\r\n",
        "\r\n",
        "print(greet(), \"Glenn\")\r\n",
        "print(greet(), \"Sally\")"
      ],
      "execution_count": 38,
      "outputs": [
        {
          "output_type": "stream",
          "text": [
            "Hello Glenn\n",
            "Hello Sally\n"
          ],
          "name": "stdout"
        }
      ]
    },
    {
      "cell_type": "code",
      "metadata": {
        "id": "_8CAHF0oB3Km"
      },
      "source": [
        "def greet(lang):\r\n",
        "  if lang == 'es':\r\n",
        "    return 'Hola'\r\n",
        "  elif lang == 'fr':\r\n",
        "    return 'Bonjour'\r\n",
        "  else:\r\n",
        "    return 'Hello'\r\n",
        "  \r\n",
        "  print(greet('en'), 'Glenn')"
      ],
      "execution_count": 44,
      "outputs": []
    },
    {
      "cell_type": "code",
      "metadata": {
        "colab": {
          "base_uri": "https://localhost:8080/"
        },
        "id": "puIfq8WyC8y2",
        "outputId": "817b1969-7758-43e2-fa18-5cdd7a58e525"
      },
      "source": [
        "big = max('Hello world')\r\n",
        "print(big)"
      ],
      "execution_count": 45,
      "outputs": [
        {
          "output_type": "stream",
          "text": [
            "w\n"
          ],
          "name": "stdout"
        }
      ]
    },
    {
      "cell_type": "code",
      "metadata": {
        "colab": {
          "base_uri": "https://localhost:8080/"
        },
        "id": "W-QQczenDGDu",
        "outputId": "1ba49510-d1d0-4841-f87a-0077d5a5df2c"
      },
      "source": [
        "### Multiple Parameters /Arguments\r\n",
        "\r\n",
        "def addtwo(a, b):\r\n",
        "  added = a + b\r\n",
        "  return added\r\n",
        "\r\n",
        "x = addtwo(3, 5)\r\n",
        "print(x)"
      ],
      "execution_count": 46,
      "outputs": [
        {
          "output_type": "stream",
          "text": [
            "8\n"
          ],
          "name": "stdout"
        }
      ]
    },
    {
      "cell_type": "code",
      "metadata": {
        "id": "BdQA70jhDqti"
      },
      "source": [
        "### Loops and Iterations"
      ],
      "execution_count": null,
      "outputs": []
    },
    {
      "cell_type": "code",
      "metadata": {
        "colab": {
          "base_uri": "https://localhost:8080/"
        },
        "id": "Hw3kplFrGnLF",
        "outputId": "9beb24c4-a7cc-4389-a05f-54549faad909"
      },
      "source": [
        "# loops have iteration variables that change each time the loop executes.\r\n",
        "\r\n",
        "n = 5\r\n",
        "while n > 0 :\r\n",
        "  print(n)\r\n",
        "  n = n - 1\r\n",
        "print('Blastoff!')\r\n",
        "print(n)"
      ],
      "execution_count": 2,
      "outputs": [
        {
          "output_type": "stream",
          "text": [
            "5\n",
            "4\n",
            "3\n",
            "2\n",
            "1\n",
            "Blastoff!\n",
            "0\n"
          ],
          "name": "stdout"
        }
      ]
    },
    {
      "cell_type": "code",
      "metadata": {
        "colab": {
          "base_uri": "https://localhost:8080/"
        },
        "id": "Jyziy7ZeHIhl",
        "outputId": "710ec9f9-5da8-4d75-f398-85954b98912a"
      },
      "source": [
        "#Iteration variables are what allow loops to end\r\n",
        "# You have to break out of the loop with a break statement\r\n",
        "\r\n",
        "while True:\r\n",
        "  line = input('> ')\r\n",
        "  if line == 'done' :\r\n",
        "    break\r\n",
        "  print(line)\r\n",
        "print('Done!')\r\n"
      ],
      "execution_count": 3,
      "outputs": [
        {
          "output_type": "stream",
          "text": [
            "> hello there\n",
            "hello there\n",
            "> finished\n",
            "finished\n",
            "> done\n",
            "Done!\n"
          ],
          "name": "stdout"
        }
      ]
    },
    {
      "cell_type": "code",
      "metadata": {
        "colab": {
          "base_uri": "https://localhost:8080/"
        },
        "id": "2zT1N21RIQQZ",
        "outputId": "a5557ba3-11a6-497e-d7b2-9f3af3f237ae"
      },
      "source": [
        "# Continue statements end the current iteration and jump back\r\n",
        "# to the top of the loop to start the next iteration; NOT the same \r\n",
        "# as break statements which break you out of the loop\r\n",
        "\r\n",
        "while True:\r\n",
        "  line = input('> ')\r\n",
        "  if line[0] == '#' :\r\n",
        "    continue\r\n",
        "  if line == 'done' :\r\n",
        "    break\r\n",
        "  print(line)\r\n",
        "print('Done!')"
      ],
      "execution_count": 4,
      "outputs": [
        {
          "output_type": "stream",
          "text": [
            "> hello there\n",
            "hello there\n",
            "> #don't print this\n",
            "> print this\n",
            "print this\n",
            "> done\n",
            "Done!\n"
          ],
          "name": "stdout"
        }
      ]
    },
    {
      "cell_type": "code",
      "metadata": {
        "colab": {
          "base_uri": "https://localhost:8080/"
        },
        "id": "ianJR-D7JzMe",
        "outputId": "d057a5bf-79ce-448f-f8c9-cf58ee7eb69b"
      },
      "source": [
        "### Definite Loops - finite, uses the 'for' command\r\n",
        "\r\n",
        "for i in [5, 4, 3, 2, 1] :\r\n",
        "  print(i)\r\n",
        "print('Blastoff!')"
      ],
      "execution_count": 5,
      "outputs": [
        {
          "output_type": "stream",
          "text": [
            "5\n",
            "4\n",
            "3\n",
            "2\n",
            "1\n",
            "Blastoff!\n"
          ],
          "name": "stdout"
        }
      ]
    },
    {
      "cell_type": "code",
      "metadata": {
        "colab": {
          "base_uri": "https://localhost:8080/"
        },
        "id": "a1XavtU0KRNF",
        "outputId": "dfa31035-3b19-48d4-e426-13247fc733a3"
      },
      "source": [
        "# Definite Loop with strings\r\n",
        "\r\n",
        "friends = ['Joseph', 'Glenn', 'Sally']\r\n",
        "for friend in friends :\r\n",
        "  print('Happy New Year:', friend)\r\n",
        "print('Done!')"
      ],
      "execution_count": 6,
      "outputs": [
        {
          "output_type": "stream",
          "text": [
            "Happy New Year: Joseph\n",
            "Happy New Year: Glenn\n",
            "Happy New Year: Sally\n",
            "Done!\n"
          ],
          "name": "stdout"
        }
      ]
    },
    {
      "cell_type": "code",
      "metadata": {
        "colab": {
          "base_uri": "https://localhost:8080/"
        },
        "id": "yYeH7id7LGiY",
        "outputId": "4922d791-47cc-42eb-d3d3-ca8335689206"
      },
      "source": [
        "# Making 'smart' loops\r\n",
        "\r\n",
        "#Looping through a set\r\n",
        "\r\n",
        "print('Before')\r\n",
        "for thing in [9, 41, 12, 3, 74, 15] :\r\n",
        "  print(thing)\r\n",
        "print('After')"
      ],
      "execution_count": 7,
      "outputs": [
        {
          "output_type": "stream",
          "text": [
            "Before\n",
            "9\n",
            "41\n",
            "12\n",
            "3\n",
            "74\n",
            "15\n",
            "After\n"
          ],
          "name": "stdout"
        }
      ]
    },
    {
      "cell_type": "code",
      "metadata": {
        "colab": {
          "base_uri": "https://localhost:8080/"
        },
        "id": "QRRvwy3mMLkt",
        "outputId": "1899879b-7beb-45f6-8548-a92a693d3254"
      },
      "source": [
        "largest_so_far = -1\r\n",
        "print('Before', largest_so_far)\r\n",
        "for the_num in [9, 41, 12, 3, 74, 15] :\r\n",
        "  if the_num > largest_so_far :\r\n",
        "    largest_so_far = the_num\r\n",
        "  print(largest_so_far, the_num)\r\n",
        "\r\n",
        "print('After', largest_so_far)"
      ],
      "execution_count": 8,
      "outputs": [
        {
          "output_type": "stream",
          "text": [
            "Before -1\n",
            "9 9\n",
            "41 41\n",
            "41 12\n",
            "41 3\n",
            "74 74\n",
            "74 15\n",
            "After 74\n"
          ],
          "name": "stdout"
        }
      ]
    },
    {
      "cell_type": "code",
      "metadata": {
        "colab": {
          "base_uri": "https://localhost:8080/"
        },
        "id": "JCNrm7aSN9d5",
        "outputId": "3d1a1674-350a-4898-f8af-f5eda3a4fae3"
      },
      "source": [
        "# Counting in a loop\r\n",
        "\r\n",
        "zork = 0\r\n",
        "print('Before', zork)\r\n",
        "for thing in [9, 41, 12, 3, 74, 15]:\r\n",
        "  zork = zork + 1\r\n",
        "  print(zork, thing)\r\n",
        "print('After', zork)\r\n"
      ],
      "execution_count": 9,
      "outputs": [
        {
          "output_type": "stream",
          "text": [
            "Before 0\n",
            "1 9\n",
            "2 41\n",
            "3 12\n",
            "4 3\n",
            "5 74\n",
            "6 15\n",
            "After 6\n"
          ],
          "name": "stdout"
        }
      ]
    },
    {
      "cell_type": "code",
      "metadata": {
        "colab": {
          "base_uri": "https://localhost:8080/"
        },
        "id": "ViPfUhCuQ6e2",
        "outputId": "2dcc3a7c-ed20-4318-ced1-2d22bceb3528"
      },
      "source": [
        "# Summing in a Loop\r\n",
        "\r\n",
        "zork = 0\r\n",
        "print('Before', zork)\r\n",
        "for thing in [9, 41, 12, 3, 74, 15] :\r\n",
        "  zork = zork + thing\r\n",
        "  print(zork, thing)\r\n",
        "print('After', zork)\r\n"
      ],
      "execution_count": 10,
      "outputs": [
        {
          "output_type": "stream",
          "text": [
            "Before 0\n",
            "9 9\n",
            "50 41\n",
            "62 12\n",
            "65 3\n",
            "139 74\n",
            "154 15\n",
            "After 154\n"
          ],
          "name": "stdout"
        }
      ]
    },
    {
      "cell_type": "code",
      "metadata": {
        "colab": {
          "base_uri": "https://localhost:8080/"
        },
        "id": "vSdcKF8ZR6tf",
        "outputId": "fbbe9ca5-0ecb-42b2-885f-e59277b3bf0a"
      },
      "source": [
        "# Finding the average in a loop\r\n",
        "\r\n",
        "count = 0\r\n",
        "sum = 0\r\n",
        "print('Before', count, sum)\r\n",
        "for value in [9, 41, 2, 3, 74, 15] :\r\n",
        "  count = count + 1\r\n",
        "  sum = sum + value\r\n",
        "  print(count, sum, value)\r\n",
        "print('After', count, sum, sum/count)"
      ],
      "execution_count": 11,
      "outputs": [
        {
          "output_type": "stream",
          "text": [
            "Before 0 0\n",
            "1 9 9\n",
            "2 50 41\n",
            "3 52 2\n",
            "4 55 3\n",
            "5 129 74\n",
            "6 144 15\n",
            "After 6 144 24.0\n"
          ],
          "name": "stdout"
        }
      ]
    },
    {
      "cell_type": "code",
      "metadata": {
        "colab": {
          "base_uri": "https://localhost:8080/"
        },
        "id": "LDTu7oVYS3gq",
        "outputId": "bd4270b3-1b86-411d-958b-4247aa14ee86"
      },
      "source": [
        "# Filtering in a loop\r\n",
        "\r\n",
        "print('Before')\r\n",
        "for value in [9, 41, 12, 3, 74, 15] :\r\n",
        "  if value > 20:\r\n",
        "    print('Large number', value)\r\n",
        "print('After')"
      ],
      "execution_count": 13,
      "outputs": [
        {
          "output_type": "stream",
          "text": [
            "Before\n",
            "Large number 41\n",
            "Large number 74\n",
            "After\n"
          ],
          "name": "stdout"
        }
      ]
    },
    {
      "cell_type": "code",
      "metadata": {
        "colab": {
          "base_uri": "https://localhost:8080/"
        },
        "id": "HgktkMZ5TdiR",
        "outputId": "55c7057f-53b2-4f1c-b2d9-aaa82a42902f"
      },
      "source": [
        "# Search using a Boolean Value - True or False\r\n",
        "\r\n",
        "found = False\r\n",
        "print('Before', found)\r\n",
        "for value in [9, 41, 12, 3, 74, 15] :\r\n",
        "  if value == 3 :\r\n",
        "    found = True\r\n",
        "  print(found, value)\r\n",
        "print('After', found)"
      ],
      "execution_count": 14,
      "outputs": [
        {
          "output_type": "stream",
          "text": [
            "Before False\n",
            "False 9\n",
            "False 41\n",
            "False 12\n",
            "True 3\n",
            "True 74\n",
            "True 15\n",
            "After True\n"
          ],
          "name": "stdout"
        }
      ]
    },
    {
      "cell_type": "code",
      "metadata": {
        "colab": {
          "base_uri": "https://localhost:8080/"
        },
        "id": "yAbYDd6UUGZk",
        "outputId": "4df311e8-445c-4938-fab2-577b2e0a55ad"
      },
      "source": [
        "# Finding the smallest value\r\n",
        "\r\n",
        "largest_so_far = -1\r\n",
        "print('Before', largest_so_far)\r\n",
        "for the_num in [9, 41, 12, 3, 74, 15]:\r\n",
        "  if the_num > largest_so_far :\r\n",
        "    largest_so_far = the_num\r\n",
        "  print(largest_so_far, the_num)\r\n",
        "\r\n",
        "print('After', largest_so_far)\r\n",
        "\r\n",
        "# how do you change this to find smallest value?\r\n",
        "### Trick question. You cannot change just one thing and this code isn't good\r\n",
        "# "
      ],
      "execution_count": 15,
      "outputs": [
        {
          "output_type": "stream",
          "text": [
            "Before -1\n",
            "9 9\n",
            "41 41\n",
            "41 12\n",
            "41 3\n",
            "74 74\n",
            "74 15\n",
            "After 74\n"
          ],
          "name": "stdout"
        }
      ]
    },
    {
      "cell_type": "code",
      "metadata": {
        "id": "f-qFmXNgXMYU"
      },
      "source": [
        ""
      ],
      "execution_count": null,
      "outputs": []
    },
    {
      "cell_type": "markdown",
      "metadata": {
        "id": "_0ZL-yJTWByN"
      },
      "source": [
        ""
      ]
    },
    {
      "cell_type": "markdown",
      "metadata": {
        "id": "q7NKlDQ_WBu2"
      },
      "source": [
        ""
      ]
    },
    {
      "cell_type": "code",
      "metadata": {
        "colab": {
          "base_uri": "https://localhost:8080/"
        },
        "id": "8mDNCcO9U4-_",
        "outputId": "c98e8822-acb2-41ae-d081-8c27db43680a"
      },
      "source": [
        "### None types \r\n",
        "\r\n",
        "smallest = None\r\n",
        "print('Before')\r\n",
        "for value in [9, 41, 12, 3, 74, 15]:\r\n",
        "  if smallest is None :\r\n",
        "    smallest = value\r\n",
        "  elif value < smallest :\r\n",
        "    smallest = value\r\n",
        "  print(smallest, value)\r\n",
        "print('After', smallest)"
      ],
      "execution_count": 16,
      "outputs": [
        {
          "output_type": "stream",
          "text": [
            "Before\n",
            "9 9\n",
            "9 41\n",
            "9 12\n",
            "3 3\n",
            "3 74\n",
            "3 15\n",
            "After 3\n"
          ],
          "name": "stdout"
        }
      ]
    },
    {
      "cell_type": "code",
      "metadata": {
        "colab": {
          "base_uri": "https://localhost:8080/"
        },
        "id": "SXEL6zmKXNxx",
        "outputId": "47781b81-3027-40c5-fc49-4790952fa6fe"
      },
      "source": [
        "# The 'is' and 'is not' operators\r\n",
        "\r\n",
        "smallest = None\r\n",
        "print('Before')\r\n",
        "for value in [3, 41, 12, 9, 74, 15]:\r\n",
        "  if smallest is None:\r\n",
        "    smallest = value\r\n",
        "  elif value < smallest :\r\n",
        "    smallest = value\r\n",
        "  print(smallest, value)\r\n",
        "\r\n",
        "print('After', smallest)\r\n",
        "\r\n",
        "# 'is' is similar to == but stronger and they are not interchangeable"
      ],
      "execution_count": 17,
      "outputs": [
        {
          "output_type": "stream",
          "text": [
            "Before\n",
            "3 3\n",
            "3 41\n",
            "3 12\n",
            "3 9\n",
            "3 74\n",
            "3 15\n",
            "After 3\n"
          ],
          "name": "stdout"
        }
      ]
    },
    {
      "cell_type": "code",
      "metadata": {
        "colab": {
          "base_uri": "https://localhost:8080/",
          "height": 131
        },
        "id": "tlfnuI0cYQpJ",
        "outputId": "cfbe7b25-5083-46dd-e1d2-54894ccc5009"
      },
      "source": [
        "echo \"# TechLabs_work\" >> README.md\r\n",
        "git init\r\n",
        "git add README.md\r\n",
        "git commit -m \"first commit\"\r\n",
        "git branch -M main\r\n",
        "git remote add origin git@github.com:sjacobs405/TechLabs_work.git\r\n",
        "git push -u origin main"
      ],
      "execution_count": 18,
      "outputs": [
        {
          "output_type": "error",
          "ename": "SyntaxError",
          "evalue": "ignored",
          "traceback": [
            "\u001b[0;36m  File \u001b[0;32m\"<ipython-input-18-a7dfc3409e56>\"\u001b[0;36m, line \u001b[0;32m1\u001b[0m\n\u001b[0;31m    echo \"# TechLabs_work\" >> README.md\u001b[0m\n\u001b[0m                         ^\u001b[0m\n\u001b[0;31mSyntaxError\u001b[0m\u001b[0;31m:\u001b[0m invalid syntax\n"
          ]
        }
      ]
    }
  ]
}